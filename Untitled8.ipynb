{
 "cells": [
  {
   "cell_type": "code",
   "execution_count": 41,
   "id": "fa0653f3-8d41-46fc-ac3f-ef70ac4bd472",
   "metadata": {},
   "outputs": [
    {
     "data": {
      "text/plain": [
       "'Dev'"
      ]
     },
     "execution_count": 41,
     "metadata": {},
     "output_type": "execute_result"
    }
   ],
   "source": [
    "import pandas as pd\n",
    "df= pd.read_csv(\"employees.csv\")\n",
    "result = df.groupby('Department')['Salary'].agg(\n",
    "    Total_Salary='sum',\n",
    "    Max_Salary='max'\n",
    ")\n",
    "highest=result.sort_values(by='Max_Salary', ascending=False).reset_index()\n",
    "\n",
    "df=highest['Department'].iloc[0]\n",
    "df\n",
    "\n",
    "\n",
    "\n"
   ]
  },
  {
   "cell_type": "code",
   "execution_count": null,
   "id": "b9f715cb-997c-4f8e-93d8-031b6d9020e1",
   "metadata": {},
   "outputs": [],
   "source": []
  }
 ],
 "metadata": {
  "kernelspec": {
   "display_name": "Python 3 (ipykernel)",
   "language": "python",
   "name": "python3"
  },
  "language_info": {
   "codemirror_mode": {
    "name": "ipython",
    "version": 3
   },
   "file_extension": ".py",
   "mimetype": "text/x-python",
   "name": "python",
   "nbconvert_exporter": "python",
   "pygments_lexer": "ipython3",
   "version": "3.13.5"
  }
 },
 "nbformat": 4,
 "nbformat_minor": 5
}
